{
 "cells": [
  {
   "cell_type": "code",
   "execution_count": 1,
   "id": "behavioral-today",
   "metadata": {},
   "outputs": [],
   "source": [
    "import tensorflow as tf\n",
    "from tensorflow.keras import Sequential\n",
    "from tensorflow.keras.layers import LSTM, Conv1D, Dense\n",
    "from tensorflow.keras.optimizers import Adam\n",
    "from tensorflow.keras.backend import clear_session\n",
    "from tensorflow.keras.activations import tanh, elu, relu\n",
    "from tensorflow.keras.models import load_model\n",
    "import tensorflow.keras.backend as K\n",
    "from tensorflow.keras.utils import Sequence\n",
    "\n",
    "import os\n",
    "from scipy import signal\n",
    "from scipy.io import wavfile\n",
    "import numpy as np\n",
    "import matplotlib.pyplot as plt\n",
    "import math\n",
    "import h5py"
   ]
  },
  {
   "cell_type": "code",
   "execution_count": 2,
   "id": "revised-champion",
   "metadata": {},
   "outputs": [],
   "source": [
    "in_file = 'ts9_test1_in_FP32.wav'\n",
    "out_file = 'data/DI.wav'"
   ]
  },
  {
   "cell_type": "code",
   "execution_count": 39,
   "id": "collective-particular",
   "metadata": {},
   "outputs": [
    {
     "name": "stdout",
     "output_type": "stream",
     "text": [
      "length = 186.7320634920635s\n"
     ]
    }
   ],
   "source": [
    "samplerate, data = wavfile.read(in_file)\n",
    "#print(f\"number of channels = {data.shape[1]}\")\n",
    "\n",
    "length = data.shape[0] / samplerate\n",
    "print(f\"length = {length}s\")\n"
   ]
  },
  {
   "cell_type": "code",
   "execution_count": 25,
   "id": "sacred-abraham",
   "metadata": {},
   "outputs": [
    {
     "data": {
      "text/plain": [
       "(3504385, 2)"
      ]
     },
     "execution_count": 25,
     "metadata": {},
     "output_type": "execute_result"
    }
   ],
   "source": [
    "data.shape"
   ]
  },
  {
   "cell_type": "code",
   "execution_count": 5,
   "id": "scientific-writer",
   "metadata": {},
   "outputs": [
    {
     "name": "stderr",
     "output_type": "stream",
     "text": [
      "C:\\Users\\ftg\\Anaconda3\\envs\\Python3.6FTG\\lib\\site-packages\\IPython\\core\\pylabtools.py:128: UserWarning: Creating legend with loc=\"best\" can be slow with large amounts of data.\n",
      "  fig.canvas.print_figure(bytes_io, **kw)\n"
     ]
    },
    {
     "data": {
      "image/png": "[encoded data removed]",
      "text/plain": [
       "<Figure size 432x288 with 1 Axes>"
      ]
     },
     "metadata": {
      "needs_background": "light"
     },
     "output_type": "display_data"
    }
   ],
   "source": [
    "import matplotlib.pyplot as plt\n",
    "import numpy as np\n",
    "time = np.linspace(0., length, data.shape[0])\n",
    "plt.plot(time, data[:], label=\"Left channel\")\n",
    "#plt.plot(time, data[:, 1], label=\"Right channel\")\n",
    "plt.legend()\n",
    "plt.xlabel(\"Time [s]\")\n",
    "plt.ylabel(\"Amplitude\")\n",
    "plt.show()\n"
   ]
  },
  {
   "cell_type": "code",
   "execution_count": 6,
   "id": "completed-minimum",
   "metadata": {},
   "outputs": [
    {
     "data": {
      "text/plain": [
       "44100"
      ]
     },
     "execution_count": 6,
     "metadata": {},
     "output_type": "execute_result"
    }
   ],
   "source": [
    "samplerate"
   ]
  },
  {
   "cell_type": "code",
   "execution_count": 83,
   "id": "forced-velvet",
   "metadata": {},
   "outputs": [
    {
     "data": {
      "text/plain": [
       "[<matplotlib.lines.Line2D at 0x2cd127377b8>]"
      ]
     },
     "execution_count": 83,
     "metadata": {},
     "output_type": "execute_result"
    },
    {
     "data": {
      "image/png": "[encoded data removed]",
      "text/plain": [
       "<Figure size 432x288 with 1 Axes>"
      ]
     },
     "metadata": {
      "needs_background": "light"
     },
     "output_type": "display_data"
    }
   ],
   "source": [
    "data_fft = np.fft.fft(data)\n",
    "\n",
    "freq = (np.abs(data_fft[:len(data_fft)]))\n",
    "\n",
    "plt.plot(freq)"
   ]
  },
  {
   "cell_type": "code",
   "execution_count": 22,
   "id": "incident-insurance",
   "metadata": {},
   "outputs": [],
   "source": [
    "\n",
    "wavfile.write('prova.wav', 44100, data[:1000000].flatten().astype(np.float32))\n"
   ]
  },
  {
   "cell_type": "code",
   "execution_count": 21,
   "id": "front-aside",
   "metadata": {},
   "outputs": [
    {
     "data": {
      "text/plain": [
       "186.7320634920635"
      ]
     },
     "execution_count": 21,
     "metadata": {},
     "output_type": "execute_result"
    }
   ],
   "source": [
    "time[-1]"
   ]
  },
  {
   "cell_type": "code",
   "execution_count": 8,
   "id": "complete-cleveland",
   "metadata": {},
   "outputs": [
    {
     "name": "stdout",
     "output_type": "stream",
     "text": [
      "Collecting librosa\n",
      "  Downloading librosa-0.9.2-py3-none-any.whl (214 kB)\n",
      "Requirement already satisfied: numba>=0.45.1 in c:\\users\\ftg\\anaconda3\\envs\\python3.6ftg\\lib\\site-packages (from librosa) (0.51.2)\n",
      "Collecting soundfile>=0.10.2\n",
      "  Downloading SoundFile-0.10.3.post1-py2.py3.cp26.cp27.cp32.cp33.cp34.cp35.cp36.pp27.pp32.pp33-none-win_amd64.whl (689 kB)\n",
      "Collecting audioread>=2.1.9\n",
      "  Downloading audioread-3.0.0.tar.gz (377 kB)\n",
      "Requirement already satisfied: joblib>=0.14 in c:\\users\\ftg\\anaconda3\\envs\\python3.6ftg\\lib\\site-packages (from librosa) (0.14.1)\n",
      "Requirement already satisfied: scikit-learn>=0.19.1 in c:\\users\\ftg\\anaconda3\\envs\\python3.6ftg\\lib\\site-packages (from librosa) (0.24.1)\n",
      "Requirement already satisfied: decorator>=4.0.10 in c:\\users\\ftg\\anaconda3\\envs\\python3.6ftg\\lib\\site-packages (from librosa) (4.4.2)\n",
      "Requirement already satisfied: numpy>=1.17.0 in c:\\users\\ftg\\anaconda3\\envs\\python3.6ftg\\lib\\site-packages (from librosa) (1.19.5)\n",
      "Requirement already satisfied: packaging>=20.0 in c:\\users\\ftg\\anaconda3\\envs\\python3.6ftg\\lib\\site-packages (from librosa) (20.9)\n",
      "Requirement already satisfied: scipy>=1.2.0 in c:\\users\\ftg\\anaconda3\\envs\\python3.6ftg\\lib\\site-packages (from librosa) (1.4.1)\n",
      "Collecting resampy>=0.2.2\n",
      "  Downloading resampy-0.4.0-py3-none-any.whl (3.1 MB)\n",
      "Collecting pooch>=1.0\n",
      "  Downloading pooch-1.6.0-py3-none-any.whl (56 kB)\n",
      "Requirement already satisfied: setuptools in c:\\users\\ftg\\anaconda3\\envs\\python3.6ftg\\lib\\site-packages (from numba>=0.45.1->librosa) (52.0.0.post20210125)\n",
      "Requirement already satisfied: llvmlite<0.35,>=0.34.0.dev0 in c:\\users\\ftg\\anaconda3\\envs\\python3.6ftg\\lib\\site-packages (from numba>=0.45.1->librosa) (0.34.0)\n",
      "Requirement already satisfied: pyparsing>=2.0.2 in c:\\users\\ftg\\anaconda3\\envs\\python3.6ftg\\lib\\site-packages (from packaging>=20.0->librosa) (2.4.7)\n",
      "Requirement already satisfied: requests>=2.19.0 in c:\\users\\ftg\\anaconda3\\envs\\python3.6ftg\\lib\\site-packages (from pooch>=1.0->librosa) (2.19.0)\n",
      "Collecting appdirs>=1.3.0\n",
      "  Using cached appdirs-1.4.4-py2.py3-none-any.whl (9.6 kB)\n",
      "Requirement already satisfied: urllib3<1.24,>=1.21.1 in c:\\users\\ftg\\anaconda3\\envs\\python3.6ftg\\lib\\site-packages (from requests>=2.19.0->pooch>=1.0->librosa) (1.22)\n",
      "Requirement already satisfied: idna<2.8,>=2.5 in c:\\users\\ftg\\anaconda3\\envs\\python3.6ftg\\lib\\site-packages (from requests>=2.19.0->pooch>=1.0->librosa) (2.6)\n",
      "Requirement already satisfied: chardet<3.1.0,>=3.0.2 in c:\\users\\ftg\\anaconda3\\envs\\python3.6ftg\\lib\\site-packages (from requests>=2.19.0->pooch>=1.0->librosa) (3.0.4)\n",
      "Requirement already satisfied: certifi>=2017.4.17 in c:\\users\\ftg\\anaconda3\\envs\\python3.6ftg\\lib\\site-packages (from requests>=2.19.0->pooch>=1.0->librosa) (2020.12.5)\n",
      "Collecting numba>=0.45.1\n",
      "  Downloading numba-0.53.1-cp36-cp36m-win_amd64.whl (2.3 MB)\n",
      "  Downloading numba-0.53.0-cp36-cp36m-win_amd64.whl (2.3 MB)\n",
      "INFO: pip is looking at multiple versions of resampy to determine which version is compatible with other requirements. This could take a while.\n",
      "Collecting resampy>=0.2.2\n",
      "  Downloading resampy-0.3.1-py3-none-any.whl (3.1 MB)\n",
      "  Downloading resampy-0.3.0-py3-none-any.whl (3.1 MB)\n",
      "  Downloading resampy-0.2.2.tar.gz (323 kB)\n",
      "Requirement already satisfied: threadpoolctl>=2.0.0 in c:\\users\\ftg\\anaconda3\\envs\\python3.6ftg\\lib\\site-packages (from scikit-learn>=0.19.1->librosa) (2.1.0)\n",
      "Requirement already satisfied: cffi>=1.0 in c:\\users\\ftg\\anaconda3\\envs\\python3.6ftg\\lib\\site-packages (from soundfile>=0.10.2->librosa) (1.14.5)\n",
      "Requirement already satisfied: pycparser in c:\\users\\ftg\\anaconda3\\envs\\python3.6ftg\\lib\\site-packages (from cffi>=1.0->soundfile>=0.10.2->librosa) (2.20)\n",
      "Building wheels for collected packages: audioread\n",
      "  Building wheel for audioread (setup.py): started\n",
      "  Building wheel for audioread (setup.py): finished with status 'done'\n",
      "  Created wheel for audioread: filename=audioread-3.0.0-py3-none-any.whl size=23694 sha256=6e7fcf28e08f3430c18985540e4182ba24271943b10f4e375fe5bca6f212a347\n",
      "  Stored in directory: c:\\users\\ftg\\appdata\\local\\pip\\cache\\wheels\\00\\be\\fc\\a93c5810787b4f37cd2a5336f8291235efbf0da00bb04add66\n",
      "Successfully built audioread\n",
      "Installing collected packages: appdirs, soundfile, resampy, pooch, audioread, librosa\n",
      "Successfully installed appdirs-1.4.4 audioread-3.0.0 librosa-0.9.2 pooch-1.6.0 resampy-0.3.1 soundfile-0.10.3.post1\n"
     ]
    }
   ],
   "source": [
    "!pip install librosa"
   ]
  },
  {
   "cell_type": "code",
   "execution_count": 63,
   "id": "historical-diabetes",
   "metadata": {},
   "outputs": [],
   "source": [
    "import librosa\n",
    "n_mels=128\n",
    "def pre_process_audio_mel_t(audio, sample_rate=16000):\n",
    "    mel_spec = librosa.feature.melspectrogram(y=audio, sr=sample_rate,\n",
    "                                              n_mels=n_mels)\n",
    "    mel_db = (librosa.power_to_db(mel_spec, ref=np.max) + 40) / 40\n",
    "    return mel_db.T"
   ]
  },
  {
   "cell_type": "code",
   "execution_count": 64,
   "id": "nearby-harvard",
   "metadata": {},
   "outputs": [],
   "source": [
    "spect = pre_process_audio_mel_t(data_audio, sample_rate=samplerate)"
   ]
  },
  {
   "cell_type": "code",
   "execution_count": 65,
   "id": "daily-portsmouth",
   "metadata": {},
   "outputs": [
    {
     "data": {
      "text/plain": [
       "(8234884,)"
      ]
     },
     "execution_count": 65,
     "metadata": {},
     "output_type": "execute_result"
    }
   ],
   "source": [
    "data.shape"
   ]
  },
  {
   "cell_type": "code",
   "execution_count": 66,
   "id": "close-lover",
   "metadata": {},
   "outputs": [
    {
     "data": {
      "text/plain": [
       "[Text(0.5, 1.0, 'Mel-frequency spectrogram')]"
      ]
     },
     "execution_count": 66,
     "metadata": {},
     "output_type": "execute_result"
    },
    {
     "data": {
      "image/png": "[encoded data removed]",
      "text/plain": [
       "<Figure size 432x288 with 2 Axes>"
      ]
     },
     "metadata": {
      "needs_background": "light"
     },
     "output_type": "display_data"
    }
   ],
   "source": [
    "import matplotlib.pyplot as plt\n",
    "fig, ax = plt.subplots()\n",
    "S_dB = librosa.power_to_db(spect, ref=np.max)\n",
    "img = display.specshow(S_dB, x_axis='time',\n",
    "                         y_axis='mel', sr=samplerate,\n",
    "                         fmax=8000, ax=ax)\n",
    "fig.colorbar(img, ax=ax, format='%+2.0f dB')\n",
    "ax.set(title='Mel-frequency spectrogram')"
   ]
  },
  {
   "cell_type": "code",
   "execution_count": 21,
   "id": "sitting-reputation",
   "metadata": {},
   "outputs": [],
   "source": [
    "from librosa import display"
   ]
  },
  {
   "cell_type": "code",
   "execution_count": null,
   "id": "federal-momentum",
   "metadata": {},
   "outputs": [],
   "source": []
  },
  {
   "cell_type": "code",
   "execution_count": 35,
   "id": "civil-danish",
   "metadata": {},
   "outputs": [],
   "source": [
    "data_audio = data[:,0]"
   ]
  },
  {
   "cell_type": "code",
   "execution_count": 84,
   "id": "postal-smart",
   "metadata": {
    "scrolled": true
   },
   "outputs": [
    {
     "data": {
      "text/plain": [
       "(3504385,)"
      ]
     },
     "execution_count": 84,
     "metadata": {},
     "output_type": "execute_result"
    }
   ],
   "source": [
    "data_audio.shape"
   ]
  },
  {
   "cell_type": "code",
   "execution_count": 85,
   "id": "arctic-flush",
   "metadata": {},
   "outputs": [
    {
     "data": {
      "text/plain": [
       "(8234884,)"
      ]
     },
     "execution_count": 85,
     "metadata": {},
     "output_type": "execute_result"
    }
   ],
   "source": [
    "data.shape"
   ]
  },
  {
   "cell_type": "code",
   "execution_count": 49,
   "id": "amino-composition",
   "metadata": {},
   "outputs": [],
   "source": [
    "data_audio=data_audio.astype('float32')"
   ]
  },
  {
   "cell_type": "code",
   "execution_count": 71,
   "id": "appreciated-family",
   "metadata": {},
   "outputs": [
    {
     "data": {
      "text/plain": [
       "array([ 0.,  1.,  0., ..., -1.,  0.,  0.], dtype=float32)"
      ]
     },
     "execution_count": 71,
     "metadata": {},
     "output_type": "execute_result"
    }
   ],
   "source": [
    "data_audio"
   ]
  },
  {
   "cell_type": "code",
   "execution_count": null,
   "id": "royal-falls",
   "metadata": {},
   "outputs": [],
   "source": []
  }
 ],
 "metadata": {
  "kernelspec": {
   "display_name": "Python 3",
   "language": "python",
   "name": "python3"
  },
  "language_info": {
   "codemirror_mode": {
    "name": "ipython",
    "version": 3
   },
   "file_extension": ".py",
   "mimetype": "text/x-python",
   "name": "python",
   "nbconvert_exporter": "python",
   "pygments_lexer": "ipython3",
   "version": "3.6.9"
  }
 },
 "nbformat": 4,
 "nbformat_minor": 5
}
